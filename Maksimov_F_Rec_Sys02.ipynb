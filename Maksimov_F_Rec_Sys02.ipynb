{
  "nbformat": 4,
  "nbformat_minor": 0,
  "metadata": {
    "colab": {
      "provenance": [],
      "authorship_tag": "ABX9TyPGA6xsLZgbjebkgzJzvIdm",
      "include_colab_link": true
    },
    "kernelspec": {
      "name": "python3",
      "display_name": "Python 3"
    },
    "language_info": {
      "name": "python"
    }
  },
  "cells": [
    {
      "cell_type": "markdown",
      "metadata": {
        "id": "view-in-github",
        "colab_type": "text"
      },
      "source": [
        "<a href=\"https://colab.research.google.com/github/FilippMaksimov/Net.RecSystems/blob/main/Maksimov_F_Rec_Sys02.ipynb\" target=\"_parent\"><img src=\"https://colab.research.google.com/assets/colab-badge.svg\" alt=\"Open In Colab\"/></a>"
      ]
    },
    {
      "cell_type": "code",
      "source": [
        "!pip install surprise"
      ],
      "metadata": {
        "colab": {
          "base_uri": "https://localhost:8080/"
        },
        "id": "A_omPNyPufrE",
        "outputId": "6fc94c5a-78d2-4615-de2a-f3b75bffc99a"
      },
      "execution_count": null,
      "outputs": [
        {
          "output_type": "stream",
          "name": "stdout",
          "text": [
            "Requirement already satisfied: surprise in /usr/local/lib/python3.11/dist-packages (0.1)\n",
            "Requirement already satisfied: scikit-surprise in /usr/local/lib/python3.11/dist-packages (from surprise) (1.1.4)\n",
            "Requirement already satisfied: joblib>=1.2.0 in /usr/local/lib/python3.11/dist-packages (from scikit-surprise->surprise) (1.4.2)\n",
            "Requirement already satisfied: numpy>=1.19.5 in /usr/local/lib/python3.11/dist-packages (from scikit-surprise->surprise) (1.26.4)\n",
            "Requirement already satisfied: scipy>=1.6.0 in /usr/local/lib/python3.11/dist-packages (from scikit-surprise->surprise) (1.13.1)\n"
          ]
        }
      ]
    },
    {
      "cell_type": "code",
      "source": [
        "from surprise import SVD\n",
        "from surprise import Dataset\n",
        "from surprise import accuracy\n",
        "from surprise import Reader\n",
        "from surprise.model_selection import train_test_split\n",
        "\n",
        "import pandas as pd\n",
        "import numpy as np"
      ],
      "metadata": {
        "id": "vleGxY2CueQY"
      },
      "execution_count": 63,
      "outputs": []
    },
    {
      "cell_type": "markdown",
      "source": [
        "Гибридные рекомендательные системы"
      ],
      "metadata": {
        "id": "PF0OrxEXA2wL"
      }
    },
    {
      "cell_type": "code",
      "source": [
        "links = pd.read_csv('links.csv')\n",
        "movies = pd.read_csv('movies.csv')\n",
        "ratings = pd.read_csv('ratings.csv')\n",
        "tags = pd.read_csv('tags.csv')"
      ],
      "metadata": {
        "id": "g-gLAhQsD31H"
      },
      "execution_count": 64,
      "outputs": []
    },
    {
      "cell_type": "code",
      "source": [
        "movies_ratings = ratings.merge(movies, on='movieId', how='left')\n",
        "dataset = pd.DataFrame({\n",
        "    'uid': movies_ratings.userId,\n",
        "    'iid': movies_ratings.title,\n",
        "    'rating': movies_ratings.rating\n",
        "})\n",
        "\n",
        "reader = Reader(rating_scale=(0.5, 5.0))\n",
        "data = Dataset.load_from_df(dataset, reader)\n",
        "\n",
        "trainset, testset = train_test_split(data, test_size=0.2, random_state=1)\n",
        "cf_model = SVD(n_factors=60, n_epochs=20, random_state=1)\n",
        "cf_model.fit(trainset)"
      ],
      "metadata": {
        "colab": {
          "base_uri": "https://localhost:8080/"
        },
        "id": "utrevfdgEbWi",
        "outputId": "bf0815f6-d469-4778-b7ff-448e692fbd3a"
      },
      "execution_count": 65,
      "outputs": [
        {
          "output_type": "execute_result",
          "data": {
            "text/plain": [
              "<surprise.prediction_algorithms.matrix_factorization.SVD at 0x7a5c77de7910>"
            ]
          },
          "metadata": {},
          "execution_count": 65
        }
      ]
    },
    {
      "cell_type": "code",
      "source": [
        "test_pred = cf_model.test(testset)\n",
        "accuracy.rmse(test_pred, verbose=True)"
      ],
      "metadata": {
        "colab": {
          "base_uri": "https://localhost:8080/"
        },
        "id": "F-_2mgR7YlaR",
        "outputId": "f1d4fead-d2e6-490e-e31e-4232d6d4c2b1"
      },
      "execution_count": 66,
      "outputs": [
        {
          "output_type": "stream",
          "name": "stdout",
          "text": [
            "RMSE: 0.8732\n"
          ]
        },
        {
          "output_type": "execute_result",
          "data": {
            "text/plain": [
              "0.8731895239673345"
            ]
          },
          "metadata": {},
          "execution_count": 66
        }
      ]
    },
    {
      "cell_type": "code",
      "source": [
        "y_pred_cf = [cf_model.predict(uid, iid).est for (uid, iid, _) in testset]"
      ],
      "metadata": {
        "id": "vVwRxatiek0S"
      },
      "execution_count": 67,
      "outputs": []
    },
    {
      "cell_type": "code",
      "source": [
        "from sklearn.linear_model import Ridge\n",
        "from sklearn.metrics import mean_squared_error\n",
        "from sklearn.feature_extraction.text import TfidfVectorizer\n",
        "\n",
        "movies['genres'] = movies['genres'].fillna('')  # Заменяем NaN на пустую строку\n",
        "# Применяем TF-IDF к жанрам\n",
        "tfidf_genres = TfidfVectorizer(tokenizer=lambda x: x.split('|'))\n",
        "genres_tfidf_matrix = tfidf_genres.fit_transform(movies['genres'])\n",
        "# Преобразуем TF-IDF матрицу в DataFrame\n",
        "genres_tfidf_df = pd.DataFrame(genres_tfidf_matrix.toarray(), columns=tfidf_genres.get_feature_names_out())\n",
        "\n",
        "# Обработка тегов\n",
        "\n",
        "tags['tag'] = tags['tag'].fillna('').astype(str)  # Заменяем NaN на пустую строку\n",
        "tags_grouped = tags.groupby('movieId')['tag'].apply(lambda x: ' '.join(x)).reset_index()\n",
        "# Применяем TF-IDF к тегам\n",
        "tfidf_tags = TfidfVectorizer()\n",
        "tags_tfidf_matrix = tfidf_tags.fit_transform(tags_grouped['tag'])\n",
        "# Преобразуем TF-IDF матрицу в DataFrame\n",
        "tags_tfidf_df = pd.DataFrame(tags_tfidf_matrix.toarray(), columns=tfidf_tags.get_feature_names_out())\n",
        "tags_tfidf_df['movieId'] = tags_grouped['movieId']\n",
        "\n",
        "#Агрегация статистик по пользователям\n",
        "user_stats = ratings.groupby('userId')['rating'].agg(['mean', 'median', 'var', 'count']).reset_index()\n",
        "user_stats.columns = ['userId', 'user_mean_rating', 'user_median_rating', 'user_rating_variance', 'user_rating_count']\n",
        "\n",
        "#Агрегация статистик по фильмам\n",
        "movie_stats = ratings.groupby('movieId')['rating'].agg(['mean', 'median', 'var', 'count']).reset_index()\n",
        "movie_stats.columns = ['movieId', 'movie_mean_rating', 'movie_median_rating', 'movie_rating_variance', 'movie_rating_count']\n",
        "\n",
        "# 1. Добавляем TF-IDF жанров к таблице movies\n",
        "movies = movies.join(genres_tfidf_df)\n",
        "\n",
        "#Объединяем данные: рейтинги, статистики, TF-IDF\n",
        "ratings_with_features = ratings.merge(user_stats, on='userId', how='left')\n",
        "ratings_with_features = ratings_with_features.merge(movie_stats, on='movieId', how='left')\n",
        "ratings_with_features = ratings_with_features.merge(movies, on='movieId', how='left')\n",
        "ratings_with_features = ratings_with_features.merge(tags_tfidf_df, on='movieId', how='left').fillna(0)\n",
        "\n",
        "#Подготовка признаков и целевой переменной\n",
        "exclude_columns = ['userId', 'movieId', 'rating', 'timestamp', 'title', 'genres']\n",
        "X = ratings_with_features.drop(columns=exclude_columns)\n",
        "y = ratings_with_features['rating']\n",
        "\n",
        "\n",
        "from sklearn.model_selection import train_test_split\n",
        "X_train, X_test, y_train, y_test = train_test_split(X, y, test_size=0.2, random_state=42)\n",
        "\n",
        "# Контентная модель (CB)\n",
        "content_model = Ridge(alpha=1.0)\n",
        "content_model.fit(X_train, y_train)\n",
        "y_pred_content = content_model.predict(X_test)\n",
        "\n",
        "# --- Гибридная модель ---\n",
        "# Объединяем предсказания CB и CF через взвешенную сумму\n",
        "alpha = 0.3  # Вес для коллаборативной фильтрации\n",
        "y_pred_hybrid = alpha * np.array(y_pred_cf) + (1 - alpha) * np.array(y_pred_content[:len(y_pred_cf)])\n",
        "\n",
        "# --- Оценка модели ---\n",
        "rmse_hybrid = np.sqrt(mean_squared_error(y_test[:len(y_pred_cf)], y_pred_hybrid))\n",
        "print(f\"RMSE для гибридной модели: {rmse_hybrid}\")"
      ],
      "metadata": {
        "colab": {
          "base_uri": "https://localhost:8080/"
        },
        "id": "LlQtCloVdPAx",
        "outputId": "bbe1a37a-7445-4fea-ba71-1335889709d3"
      },
      "execution_count": 68,
      "outputs": [
        {
          "output_type": "stream",
          "name": "stderr",
          "text": [
            "/usr/local/lib/python3.11/dist-packages/sklearn/feature_extraction/text.py:517: UserWarning: The parameter 'token_pattern' will not be used since 'tokenizer' is not None'\n",
            "  warnings.warn(\n"
          ]
        },
        {
          "output_type": "stream",
          "name": "stdout",
          "text": [
            "RMSE для гибридной модели: 0.8578311295768493\n"
          ]
        }
      ]
    }
  ]
}